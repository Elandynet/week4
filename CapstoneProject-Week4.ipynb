{
 "cells": [
  {
   "cell_type": "markdown",
   "metadata": {},
   "source": [
    "<h2 style=\"color:#033887\">Applied Data Science Capstone</h2>\n",
    "<h3>Week 4 Submission</h3>\n",
    "<p>By Andres Lopez</p>"
   ]
  },
  {
   "cell_type": "markdown",
   "metadata": {},
   "source": [
    "<h2 style=\"color:#033887\">I.  Description of the Problem</h2>"
   ]
  },
  {
   "cell_type": "markdown",
   "metadata": {},
   "source": [
    "<h3>Background</h3>\n",
    "<p>A Vietnamese restaurant chain is expanding its business and is planning to bring its restaurants to Texas. As a first step, the company wants to open two restaurants and has selected Houston as the first Texas city to enjoy its delicious cuisine. However, the Greater Houston area is a vast geographical area and management is uncertain on what are the best locations for the initial two restaurants.</p>\n",
    "<h3>Approach</h3>\n",
    "<p>The goal of this project is to determine the best locations for the proposed restaurants. We will analyze different areas in the Greater Houston area to determine the area with the least competition for a new Vietnamese restaurant. The Houston areas selected for this study are Cinco Ranch, Sugarland, Galleria, Pearland, Cypress, Jersey Village, Greenspoint, The Woodlands, Kingwood, and Baytown. These areas were selected because of their population density and the purchasing power of their residents.</p>\n",
    "<p>Of special consideration will be how many Vietnamese restaurants currently operate in each area and how spread or concentrated the restaurants are geographically. We will also investigate how many restaurants of other type of Asian food exist in each area. The other types of Asian food restaurants that will be analyzed are Chinese, Thai, Korean, and Japanese.</p>\n",
    "<p>Not all these types of Asian food restaurants pose the same competition for a new Vietnamese restaurant, so each will be assigned a different weight. Chinese and Thai food restaurants are considered to pose more competition to Vietnamese restaurants than Korean and Japanese. There will be three different levels of competition. The first level is for restaurants that pose the least competition and includes Japanese and Korean food restaurants. The second level is for Chinese and Thai food restaurants. The third level is for existing Vietnamese restaurants which pose a direct competition to the proposed new venues.</p>\n",
    "<p>Final recommendations will be based on the level of competition in each area and the clustering or geographical concentration of Asian food restaurants in each area.</p>"
   ]
  },
  {
   "cell_type": "markdown",
   "metadata": {},
   "source": [
    "<h2 style=\"color:#033887\">II.   Description and Use of the Data</h2>"
   ]
  },
  {
   "cell_type": "markdown",
   "metadata": {},
   "source": [
    "<p>Data will be collected from two sources. The latitude and longitude coordinates of each Houston area to be study will be obtained from Latitude (https://latitude.to/), and the information and location of Asian foods restaurants in each are will be obtained from Foursquare.</p>\n",
    "<h3>Latitude</h3>\n",
    "<p>Latitude does not provide data by an API but offers a search tool that returns the coordinates for addresses, popular areas, and landmarks. All ten selected areas of Houston are included in the Latitude database, and since there are only ten, the coordinates will be obtained manually using the search feature and stored in a .csv file which will later be read into a Pandas data frame. </p>\n",
    "<h3>Foursquare</h3>\n",
    "<p>An API call to Foursquare for each study area will be made, passing the coordinates obtained from Latitude. We will use the explore endpoint and we will ask Foursquare to provide venues in the Vietnamese, Chinese, Thai, Japanese, and Korean food categories only. This filtering will be applied by passing  the category ID for these types of Asian food with every API call.</p>\n",
    "<p>The data returned by Foursquare will be placed in a Pandas data frame for analysis. Each Asian food category will be assigned a competition weight or index. Japanese and Korean food restaurants will be assigned an index of 1,  Chinese and Thai an index of 2, and Vietnamese an index of 3. Classification or clustering will be used to determine the areas with the least competition for the proposed Vietnamese restaurants and to make the final recommendation to the Vietnamese restaurant chain management.</p>"
   ]
  }
 ],
 "metadata": {
  "kernelspec": {
   "display_name": "Python 3",
   "language": "python",
   "name": "python3"
  },
  "language_info": {
   "codemirror_mode": {
    "name": "ipython",
    "version": 3
   },
   "file_extension": ".py",
   "mimetype": "text/x-python",
   "name": "python",
   "nbconvert_exporter": "python",
   "pygments_lexer": "ipython3",
   "version": "3.8.2"
  }
 },
 "nbformat": 4,
 "nbformat_minor": 4
}
